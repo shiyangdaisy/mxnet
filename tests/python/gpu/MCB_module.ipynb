{
 "cells": [
  {
   "cell_type": "code",
   "execution_count": 1,
   "metadata": {
    "collapsed": false
   },
   "outputs": [
    {
     "name": "stderr",
     "output_type": "stream",
     "text": [
      "WARNING:root:Already binded, ignoring bind()\n"
     ]
    },
    {
     "name": "stdout",
     "output_type": "stream",
     "text": [
      "None\n",
      "[[-1.  1. -1.  1.  1. -1. -1.  1.  1. -1.  1.  1. -1.  1. -1. -1. -1. -1.\n",
      "   1.  1.]]\n",
      "[[ 1.  2.  1.  5.  3.  4.  5.  1.  0.  3.  1.  3.  5.  4.  0.  3.  3.  1.\n",
      "   2.  2.]]\n",
      "[[ -2.85288382   0.69883657   2.40398669  -0.91645956   2.40398669\n",
      "    0.69883657]\n",
      " [  6.91815567  25.70142365   7.28585529  26.5063591    7.28585529\n",
      "   25.70142365]\n",
      " [ -5.27399778   0.32251906  -5.11365604   0.36735582  -5.11365604\n",
      "    0.32251906]\n",
      " [ 10.17026329   3.45135927  -5.43881607  -5.37584686  -5.43881655\n",
      "    3.4513588 ]\n",
      " [-12.35376644   1.60196257 -10.04593849   8.21428394 -10.04593849\n",
      "    1.60196257]\n",
      " [-16.04083443  -8.72570801  -5.62294388  -7.43520975  -5.62294388\n",
      "   -8.72570801]\n",
      " [-16.39488983  16.33043289 -10.93972778  20.78601456 -10.93972778\n",
      "   16.33043289]\n",
      " [ -6.18078518 -12.11275196  18.48058319  -9.09741879  18.48058319\n",
      "  -12.11275196]\n",
      " [  6.85398769   4.71826506   8.28018951   8.81679916   8.28018951\n",
      "    4.71826506]\n",
      " [-12.41288567   8.65018654   8.65702057 -23.72784996   8.65702057\n",
      "    8.65018654]]\n"
     ]
    }
   ],
   "source": [
    "'''\n",
    "changed (comment out) http://localhost:8888/edit/workplace/mxnet/python/mxnet/module/base_module.py\n",
    "line 144 411 412\n",
    "'''\n",
    "\n",
    "\n",
    "import mxnet as mx\n",
    "import numpy as np\n",
    "out_dim = 6\n",
    "compute_size = 128\n",
    "D1 = mx.sym.Variable('data1')\n",
    "S1 = mx.sym.Variable('s1',init = mx.init.Plusminusone(),shape = (1,20))\n",
    "H1 = mx.sym.Variable('h1',init = mx.init.Index(out_dim),shape = (1,20))\n",
    "D2 = mx.sym.Variable('data2')\n",
    "S2 = mx.sym.Variable('s2',init = mx.init.Plusminusone(),shape = (1,20))\n",
    "H2 = mx.sym.Variable('h2',init = mx.init.Index(out_dim),shape = (1,20))\n",
    "\n",
    "cs1 = mx.sym.CountSketch( data = D1,s=S1, h = H1 ,name='cs1',out_dim = out_dim) \n",
    "cs2 = mx.sym.CountSketch( data = D2,s=S2, h = H2 ,name='cs2',out_dim = out_dim) \n",
    "fft1 = mx.sym.FFT(data = cs1, name='fft1', compute_size = compute_size) \n",
    "fft2 = mx.sym.FFT(data = cs2, name='fft2', compute_size = compute_size) \n",
    "c = fft1 * fft2\n",
    "out = mx.sym.IFFT(data = c, name='ifft', compute_size = compute_size) \n",
    "\n",
    "mod = mx.mod.Module(symbol=out, \n",
    "                    context=mx.gpu(0),\n",
    "                    data_names=['data1','data2'],\n",
    "                    label_names = None\n",
    "                    )\n",
    "\n",
    "data = mx.io.NDArrayIter({'data1':np.random.uniform(-1, 1, (10,20)),'data2':np.random.uniform(-1, 1, (10,20))},batch_size=10,label_name=None)\n",
    "\n",
    "from collections import namedtuple\n",
    "Batch = namedtuple('Batch', ['data'])\n",
    "\n",
    "mod.bind(data_shapes=[('data1', (10,20)),('data2', (10,20))])\n",
    "mod.init_params()\n",
    "print mod.label_shapes\n",
    "print mod.get_params()[0]['s1'].asnumpy()\n",
    "print mod.get_params()[0]['h1'].asnumpy()\n",
    "#mod.forward(Batch(data))\n",
    "#mod.forward(Batch(data))\n",
    "\n",
    "mod.fit(data, num_epoch=1)\n",
    "print mod.get_outputs()[0].asnumpy()\n"
   ]
  },
  {
   "cell_type": "code",
   "execution_count": null,
   "metadata": {
    "collapsed": false
   },
   "outputs": [],
   "source": []
  },
  {
   "cell_type": "code",
   "execution_count": null,
   "metadata": {
    "collapsed": true
   },
   "outputs": [],
   "source": []
  }
 ],
 "metadata": {
  "kernelspec": {
   "display_name": "Python 2",
   "language": "python",
   "name": "python2"
  },
  "language_info": {
   "codemirror_mode": {
    "name": "ipython",
    "version": 2
   },
   "file_extension": ".py",
   "mimetype": "text/x-python",
   "name": "python",
   "nbconvert_exporter": "python",
   "pygments_lexer": "ipython2",
   "version": "2.7.12"
  }
 },
 "nbformat": 4,
 "nbformat_minor": 1
}
