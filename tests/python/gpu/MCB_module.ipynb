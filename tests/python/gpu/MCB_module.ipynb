{
 "cells": [
  {
   "cell_type": "code",
   "execution_count": 1,
   "metadata": {
    "collapsed": false
   },
   "outputs": [
    {
     "name": "stderr",
     "output_type": "stream",
     "text": [
      "WARNING:root:Already binded, ignoring bind()\n"
     ]
    },
    {
     "name": "stdout",
     "output_type": "stream",
     "text": [
      "None\n",
      "[[-1. -1. -1. -1. -1. -1.  1.  1.  1.  1. -1.  1. -1. -1.  1.  1.  1. -1.\n",
      "  -1.  1.]]\n",
      "[[ 5.  0.  5.  0.  3.  5.  2.  0.  2.  0.  4.  2.  4.  5.  4.  2.  4.  0.\n",
      "   4.  0.]]\n",
      "[[ 28.20666504   2.5480504    5.23099422 -19.15708923   5.23099422\n",
      "    2.5480504 ]\n",
      " [ 22.68682671   6.10175562   1.3749795  -19.89404488   1.3749795\n",
      "    6.10175562]\n",
      " [ -7.58494759   9.37327385  -6.09039211  16.31090927  -6.09039211\n",
      "    9.37327385]\n",
      " [-11.65919781   3.3057375  -27.06985474 -18.99271011 -27.06985474\n",
      "    3.30573654]\n",
      " [  5.03262043   1.06160045  -4.891366    -7.159832    -4.891366\n",
      "    1.06160045]\n",
      " [-26.49144745   0.95978546 -10.09792519   3.39095688 -10.09792519\n",
      "    0.95978594]\n",
      " [ 18.80475426  -3.78564358   8.0124054   -8.31191063   8.01240635\n",
      "   -3.7856431 ]\n",
      " [ 15.93953323  -4.49252319   7.64351606   9.00363159   7.64351654\n",
      "   -4.49252272]\n",
      " [ -0.79262215   0.14079565  -0.27017492   0.53937823  -0.27017486\n",
      "    0.14079569]\n",
      " [  3.02468252  -2.98793697  -0.77909338   1.07406473  -0.7790935\n",
      "   -2.98793697]]\n"
     ]
    }
   ],
   "source": [
    "'''\n",
    "changed (comment out) http://localhost:8888/edit/workplace/mxnet/python/mxnet/module/base_module.py\n",
    "line 144 411 412\n",
    "'''\n",
    "\n",
    "\n",
    "import mxnet as mx\n",
    "import numpy as np\n",
    "out_dim = 6\n",
    "compute_size = 128\n",
    "D1 = mx.sym.Variable('data1')\n",
    "S1 = mx.sym.Variable('s1',init = mx.init.Plusminusone(),shape = (1,20))\n",
    "H1 = mx.sym.Variable('h1',init = mx.init.Index(out_dim),shape = (1,20))\n",
    "D2 = mx.sym.Variable('data2')\n",
    "S2 = mx.sym.Variable('s2',init = mx.init.Plusminusone(),shape = (1,20))\n",
    "H2 = mx.sym.Variable('h2',init = mx.init.Index(out_dim),shape = (1,20))\n",
    "\n",
    "cs1 = mx.sym.CountSketch( data = D1,s=S1, h = H1 ,name='cs1',out_dim = out_dim) \n",
    "cs2 = mx.sym.CountSketch( data = D2,s=S2, h = H2 ,name='cs2',out_dim = out_dim) \n",
    "fft1 = mx.sym.FFT(data = cs1, name='fft1', compute_size = compute_size) \n",
    "fft2 = mx.sym.FFT(data = cs2, name='fft2', compute_size = compute_size) \n",
    "c = fft1 * fft2\n",
    "out = mx.sym.IFFT(data = c, name='ifft', compute_size = compute_size) \n",
    "\n",
    "mod = mx.mod.Module(symbol=out, \n",
    "                    context=mx.gpu(0),\n",
    "                    data_names=['data1','data2'],\n",
    "                    label_names = None\n",
    "                    )\n",
    "\n",
    "data = mx.io.NDArrayIter({'data1':np.random.uniform(-1, 1, (10,20)),'data2':np.random.uniform(-1, 1, (10,20))},batch_size=10,label_name=None)\n",
    "\n",
    "from collections import namedtuple\n",
    "Batch = namedtuple('Batch', ['data'])\n",
    "\n",
    "mod.bind(data_shapes=[('data1', (10, 20)),('data2', (10, 20))])\n",
    "mod.init_params()\n",
    "print mod.label_shapes\n",
    "print mod.get_params()[0]['s1'].asnumpy()\n",
    "print mod.get_params()[0]['h1'].asnumpy()\n",
    "#mod.forward(Batch(data))\n",
    "#mod.forward(Batch(data))\n",
    "mod.fit(data, num_epoch=1)\n",
    "print mod.get_outputs()[0].asnumpy()"
   ]
  }
 ],
 "metadata": {
  "kernelspec": {
   "display_name": "Python 2",
   "language": "python",
   "name": "python2"
  },
  "language_info": {
   "codemirror_mode": {
    "name": "ipython",
    "version": 2
   },
   "file_extension": ".py",
   "mimetype": "text/x-python",
   "name": "python",
   "nbconvert_exporter": "python",
   "pygments_lexer": "ipython2",
   "version": "2.7.12"
  }
 },
 "nbformat": 4,
 "nbformat_minor": 1
}
